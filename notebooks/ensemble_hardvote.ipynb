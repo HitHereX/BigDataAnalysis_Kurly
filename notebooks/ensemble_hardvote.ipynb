{
 "cells": [
  {
   "cell_type": "code",
   "execution_count": 42,
   "metadata": {},
   "outputs": [],
   "source": [
    "import json\n",
    "from collections import Counter"
   ]
  },
  {
   "cell_type": "code",
   "execution_count": 2,
   "metadata": {},
   "outputs": [],
   "source": [
    "with open ('hard_vote.json', 'r') as f:\n",
    "    hard_vote = json.load(f)"
   ]
  },
  {
   "cell_type": "code",
   "execution_count": 35,
   "metadata": {},
   "outputs": [],
   "source": [
    "topics = [\n",
    "    [],\n",
    "    [],\n",
    "    []\n",
    "]\n",
    "\n",
    "for i in range(len(hard_vote)):\n",
    "    for j in range(len(hard_vote[i])):\n",
    "        topics[j].extend(hard_vote[i][f'{j}'])"
   ]
  },
  {
   "cell_type": "code",
   "execution_count": 36,
   "metadata": {},
   "outputs": [],
   "source": [
    "for i in range(len(hard_vote)):\n",
    "    for j in range(len(hard_vote[i])):\n",
    "        topics[j].extend(hard_vote[i][f'{j}'])"
   ]
  },
  {
   "cell_type": "code",
   "execution_count": 48,
   "metadata": {},
   "outputs": [],
   "source": [
    "topic_sorted = []\n",
    "\n",
    "for i in range(len(topics)):\n",
    "    temp = Counter(topics[i])\n",
    "    topic_sorted.append(temp.most_common(10))\n"
   ]
  },
  {
   "cell_type": "code",
   "execution_count": 50,
   "metadata": {},
   "outputs": [
    {
     "name": "stdout",
     "output_type": "stream",
     "text": [
      "[('적당하고', 3), ('괜찮아요', 3), ('크기', 3), ('사이즈', 3), ('적당해서', 3), ('좋아요', 3), ('적당한', 3), ('지만', 3), ('알도', 2), ('양도', 2)]\n",
      "[('감자', 2), ('구매', 2), ('컬리', 2), ('으로', 2), ('볶음', 2), ('했어요', 2), ('카레', 2), ('먹고', 2), ('자주', 2), ('주문', 2)]\n",
      "[('후추', 3), ('가루', 3), ('남은', 3), ('비싼데', 3), ('개는', 3), ('설탕', 3), ('만들고', 2), ('부터', 2), ('구멍', 2), ('달달', 2)]\n"
     ]
    }
   ],
   "source": [
    "print(*topic_sorted, sep = '\\n')"
   ]
  },
  {
   "attachments": {},
   "cell_type": "markdown",
   "metadata": {},
   "source": []
  }
 ],
 "metadata": {
  "kernelspec": {
   "display_name": "Python 3",
   "language": "python",
   "name": "python3"
  },
  "language_info": {
   "codemirror_mode": {
    "name": "ipython",
    "version": 3
   },
   "file_extension": ".py",
   "mimetype": "text/x-python",
   "name": "python",
   "nbconvert_exporter": "python",
   "pygments_lexer": "ipython3",
   "version": "3.9.6"
  },
  "orig_nbformat": 4
 },
 "nbformat": 4,
 "nbformat_minor": 2
}
